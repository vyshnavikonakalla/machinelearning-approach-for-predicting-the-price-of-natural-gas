{
 "cells": [
  {
   "cell_type": "code",
   "execution_count": 1,
   "id": "3478321d-e1f1-4cf5-9af6-3d11eea463bd",
   "metadata": {},
   "outputs": [],
   "source": [
    "import pandas as pd\n",
    "from sklearn.tree import DecisionTreeRegressor\n",
    "from sklearn.svm import SVR\n",
    "from sklearn.ensemble import RandomForestRegressor\n",
    "from sklearn.metrics import mean_squared_error\n",
    "from sklearn.model_selection import train_test_split, GridSearchCV\n"
   ]
  },
  {
   "cell_type": "code",
   "execution_count": 2,
   "id": "eccc15c7-da4c-462c-8875-35b8a9d708b9",
   "metadata": {},
   "outputs": [],
   "source": [
    "data=pd.read_csv(r'preprocessed_natural_gas_prices.csv')"
   ]
  },
  {
   "cell_type": "code",
   "execution_count": 3,
   "id": "4c7f4595-655b-4cf8-8f06-f015341fd195",
   "metadata": {},
   "outputs": [],
   "source": [
    "# Features and target\n",
    "x=data.drop(columns='Price', axis=1)\n",
    "y=data['Price']"
   ]
  },
  {
   "cell_type": "code",
   "execution_count": 4,
   "id": "dd4a4b95-cb72-4a26-a23f-558c0ddca872",
   "metadata": {},
   "outputs": [],
   "source": [
    "# Split data into training and testing sets\n",
    "x_train, x_test, y_train, y_test = train_test_split(x, y, test_size=0.2, random_state=2)"
   ]
  },
  {
   "cell_type": "code",
   "execution_count": 5,
   "id": "77b57be0-9a71-4b72-b822-f59612214934",
   "metadata": {},
   "outputs": [],
   "source": [
    "# Initialize models with default hyperparameters\n",
    "dt_model = DecisionTreeRegressor()\n",
    "svr_model = SVR()\n",
    "rf_model = RandomForestRegressor()\n"
   ]
  },
  {
   "cell_type": "code",
   "execution_count": 6,
   "id": "4eb61df6-596c-48c0-a0db-b48b07fb9508",
   "metadata": {},
   "outputs": [],
   "source": [
    "# Train and evaluate Decision Tree Regressor\n",
    "dt_model.fit(x_train, y_train)\n",
    "y_pred_dt = dt_model.predict(x_test)\n",
    "baseline_dt = mean_squared_error(y_test, y_pred_dt, squared=False)\n"
   ]
  },
  {
   "cell_type": "code",
   "execution_count": 7,
   "id": "2f30ba39-ae58-4a50-99f0-656ba2828eac",
   "metadata": {},
   "outputs": [],
   "source": [
    "# Train and evaluate SVR\n",
    "svr_model.fit(x_train, y_train)\n",
    "y_pred_svr = svr_model.predict(x_test)\n",
    "baseline_svr = mean_squared_error(y_test, y_pred_svr, squared=False)\n"
   ]
  },
  {
   "cell_type": "code",
   "execution_count": 8,
   "id": "3bd92b63-9e8a-4d9a-8929-85bf756eeed9",
   "metadata": {},
   "outputs": [],
   "source": [
    "# Train and evaluate Random Forest Regressor\n",
    "rf_model.fit(x_train, y_train)\n",
    "y_pred_rf = rf_model.predict(x_test)\n",
    "baseline_rf = mean_squared_error(y_test, y_pred_rf, squared=False)"
   ]
  },
  {
   "cell_type": "code",
   "execution_count": 9,
   "id": "5ba92ba6-0890-4650-b28a-c8ce2db62844",
   "metadata": {},
   "outputs": [
    {
     "name": "stdout",
     "output_type": "stream",
     "text": [
      "Baseline RMSE for Decision Tree: 0.020540231956418322\n",
      "Baseline RMSE for SVR: 0.12873558875775146\n",
      "Baseline RMSE for Random Forest: 0.01611641473655759\n"
     ]
    }
   ],
   "source": [
    "print(f'Baseline RMSE for Decision Tree: {baseline_dt}')\n",
    "print(f'Baseline RMSE for SVR: {baseline_svr}')\n",
    "print(f'Baseline RMSE for Random Forest: {baseline_rf}')"
   ]
  },
  {
   "cell_type": "code",
   "execution_count": 10,
   "id": "d768266e-d4ba-4f96-a01f-b6b4a76ab36c",
   "metadata": {},
   "outputs": [],
   "source": [
    "# Perform hyperparameter tuning and evaluation\n",
    "# Decision Tree Regressor\n",
    "param_grid_dt = {\n",
    "    'max_depth': [3, 5, 7, 10],\n",
    "    'min_samples_split': [2, 5, 10],\n",
    "    'min_samples_leaf': [1, 2, 5]\n",
    "}\n",
    "grid_search_dt = GridSearchCV(DecisionTreeRegressor(), param_grid_dt, cv=5, scoring='neg_mean_squared_error')\n",
    "grid_search_dt.fit(x_train, y_train)\n",
    "y_pred_dt_opt = grid_search_dt.predict(x_test)\n",
    "optimized_dt = mean_squared_error(y_test, y_pred_dt_opt, squared=False)\n"
   ]
  },
  {
   "cell_type": "code",
   "execution_count": 11,
   "id": "48e1f31f-ce69-40c3-99fe-82eda65d7485",
   "metadata": {},
   "outputs": [],
   "source": [
    "# SVR\n",
    "param_grid_svr = {\n",
    "    'C': [0.1, 1, 10, 100],\n",
    "    'epsilon': [0.01, 0.1, 0.2],\n",
    "    'kernel': ['linear', 'poly', 'rbf', 'sigmoid']\n",
    "}\n",
    "grid_search_svr = GridSearchCV(SVR(), param_grid_svr, cv=5, scoring='neg_mean_squared_error')\n",
    "grid_search_svr.fit(x_train, y_train)\n",
    "y_pred_svr_opt = grid_search_svr.predict(x_test)\n",
    "optimized_svr = mean_squared_error(y_test, y_pred_svr_opt, squared=False)"
   ]
  },
  {
   "cell_type": "code",
   "execution_count": 12,
   "id": "ad73e85b-0a7c-444f-a876-336eb62f97d7",
   "metadata": {},
   "outputs": [],
   "source": [
    "# Random Forest Regressor\n",
    "param_grid_rf = {\n",
    "    'n_estimators': [50, 100, 200],\n",
    "    'max_depth': [None, 10, 20, 30],\n",
    "    'min_samples_split': [2, 5, 10],\n",
    "    'min_samples_leaf': [1, 2, 4]\n",
    "}\n",
    "grid_search_rf = GridSearchCV(RandomForestRegressor(), param_grid_rf, cv=5, scoring='neg_mean_squared_error')\n",
    "grid_search_rf.fit(x_train, y_train)\n",
    "y_pred_rf_opt = grid_search_rf.predict(x_test)\n",
    "optimized_rf = mean_squared_error(y_test, y_pred_rf_opt, squared=False)"
   ]
  },
  {
   "cell_type": "code",
   "execution_count": 13,
   "id": "e71fb520-d4b0-4467-b96c-cf708454c8ba",
   "metadata": {},
   "outputs": [
    {
     "name": "stdout",
     "output_type": "stream",
     "text": [
      "Optimized RMSE for Decision Tree: 0.017249806930300513\n",
      "Optimized RMSE for SVR: 0.10890416589873322\n",
      "Optimized RMSE for Random Forest: 0.01622791715705109\n"
     ]
    }
   ],
   "source": [
    "print(f'Optimized RMSE for Decision Tree: {optimized_dt}')\n",
    "print(f'Optimized RMSE for SVR: {optimized_svr}')\n",
    "print(f'Optimized RMSE for Random Forest: {optimized_rf}')"
   ]
  },
  {
   "cell_type": "code",
   "execution_count": null,
   "id": "1f24ab68-4cce-4c3d-ab30-30f248aa8a8a",
   "metadata": {},
   "outputs": [],
   "source": []
  }
 ],
 "metadata": {
  "kernelspec": {
   "display_name": "Python 3 (ipykernel)",
   "language": "python",
   "name": "python3"
  },
  "language_info": {
   "codemirror_mode": {
    "name": "ipython",
    "version": 3
   },
   "file_extension": ".py",
   "mimetype": "text/x-python",
   "name": "python",
   "nbconvert_exporter": "python",
   "pygments_lexer": "ipython3",
   "version": "3.11.7"
  }
 },
 "nbformat": 4,
 "nbformat_minor": 5
}
